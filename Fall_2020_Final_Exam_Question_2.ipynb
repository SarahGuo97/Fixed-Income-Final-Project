{
  "nbformat": 4,
  "nbformat_minor": 0,
  "metadata": {
    "colab": {
      "name": "Fall 2020 Final Exam Question 2.ipynb",
      "provenance": [],
      "collapsed_sections": [],
      "include_colab_link": true
    },
    "kernelspec": {
      "display_name": "Python 3",
      "language": "python",
      "name": "python3"
    },
    "language_info": {
      "codemirror_mode": {
        "name": "ipython",
        "version": 3
      },
      "file_extension": ".py",
      "mimetype": "text/x-python",
      "name": "python",
      "nbconvert_exporter": "python",
      "pygments_lexer": "ipython3",
      "version": "3.7.6"
    }
  },
  "cells": [
    {
      "cell_type": "markdown",
      "metadata": {
        "id": "view-in-github",
        "colab_type": "text"
      },
      "source": [
        "<a href=\"https://colab.research.google.com/github/SarahGuo97/Fixed-Income-Final-Project/blob/main/Fall_2020_Final_Exam_Question_2.ipynb\" target=\"_parent\"><img src=\"https://colab.research.google.com/assets/colab-badge.svg\" alt=\"Open In Colab\"/></a>"
      ]
    },
    {
      "cell_type": "markdown",
      "metadata": {
        "id": "scNYJFCyeqEQ"
      },
      "source": [
        "**Sarah Guo, yg2060@nyu.edu**"
      ]
    },
    {
      "cell_type": "markdown",
      "metadata": {
        "id": "EmIm4uQMeKKr"
      },
      "source": [
        "2. There exist a Future contract on 5 year government bonds maturing in period \n",
        "Deliverable against this Future contract are all government bonds with 4 or 5 year to maturity.\n",
        "Assume the reference bond for this Future contract is an exact 5 year 6% coupon bond.\n",
        "The following bonds are eligible for delivery against this Future contract (seller choice)\\\n",
        "a ) 0.50%, 4 period maturity government bond.\\\n",
        "b ) 1.25%, 4 period maturity government bond.\\\n",
        "c ) 2.00%, 4 period maturity government bond.\\\n",
        "d ) 0.75%, 5 period maturity government bond.\\\n",
        "e ) 2.25%, 5 period maturity government bond."
      ]
    },
    {
      "cell_type": "code",
      "metadata": {
        "id": "wlqqqjAX_4kr"
      },
      "source": [
        "import numpy as np"
      ],
      "execution_count": 40,
      "outputs": []
    },
    {
      "cell_type": "code",
      "metadata": {
        "colab": {
          "base_uri": "https://localhost:8080/"
        },
        "id": "60yNgE4VBewL",
        "outputId": "f2de37f1-d7e9-40c0-8f69-d14e306d7cbd"
      },
      "source": [
        "#risk free rate\n",
        "def risk_free(n=5, u=0.0015, r0=0.02):\n",
        "    rf = np.zeros((n+1,n+1))\n",
        "    rf[n,0] = r0\n",
        "    for j in range(1, n+1):\n",
        "      rf[n,j] = rf[n,j-1] + u\n",
        "      for i in range(n-1,n-j-1,-1):\n",
        "        rf[i,j] = rf[i+1,j] - u*2\n",
        "    return 1+rf[:,:n]\n",
        "\n",
        "rf=risk_free()\n",
        "rf"
      ],
      "execution_count": 41,
      "outputs": [
        {
          "output_type": "execute_result",
          "data": {
            "text/plain": [
              "array([[1.    , 1.    , 1.    , 1.    , 1.    ],\n",
              "       [1.    , 1.    , 1.    , 1.    , 1.014 ],\n",
              "       [1.    , 1.    , 1.    , 1.0155, 1.017 ],\n",
              "       [1.    , 1.    , 1.017 , 1.0185, 1.02  ],\n",
              "       [1.    , 1.0185, 1.02  , 1.0215, 1.023 ],\n",
              "       [1.02  , 1.0215, 1.023 , 1.0245, 1.026 ]])"
            ]
          },
          "metadata": {
            "tags": []
          },
          "execution_count": 41
        }
      ]
    },
    {
      "cell_type": "code",
      "metadata": {
        "colab": {
          "base_uri": "https://localhost:8080/"
        },
        "id": "7Iw7tXZrIlCZ",
        "outputId": "eb9c7875-f3d0-4561-f5bd-999fa5947538"
      },
      "source": [
        "def calculate_zerobond_price(T, p, fv=1, u=0.0015, r0=0.02):\n",
        "    # use an price array to hold price in each state along the way\n",
        "    state_price_array = np.zeros((T+1, T+1))\n",
        "    \n",
        "    rf = risk_free(T, u, r0)\n",
        "    FV = [fv] * (T+1)\n",
        "    state_price_array[:,-1] = FV # initialize\n",
        "    # backward\n",
        "    for i in range(T-1, -1, -1):\n",
        "        for j in range(0,i+1):\n",
        "            FV[j] = p*FV[j+1]/rf[T-j,i] + (1-p)*FV[j]/rf[T-j,i]\n",
        "        state_price_array[T:(T-i-1):-1,i] = FV[0:(i+1)]\n",
        "    return (FV[0], state_price_array)\n",
        "calculate_zerobond_price(3,0.6,fv=106)"
      ],
      "execution_count": 42,
      "outputs": [
        {
          "output_type": "execute_result",
          "data": {
            "text/plain": [
              "(99.97519326561692,\n",
              " array([[  0.        ,   0.        ,   0.        , 106.        ],\n",
              "        [  0.        ,   0.        , 104.22812193, 106.        ],\n",
              "        [  0.        , 102.21453177, 103.92156863, 106.        ],\n",
              "        [ 99.97519327, 101.61494517, 103.61681329, 106.        ]]))"
            ]
          },
          "metadata": {
            "tags": []
          },
          "execution_count": 42
        }
      ]
    },
    {
      "cell_type": "code",
      "metadata": {
        "id": "YnWiDYc4586q",
        "colab": {
          "base_uri": "https://localhost:8080/"
        },
        "outputId": "1b506c8f-9e52-4285-9c7e-39fb90f6a7f9"
      },
      "source": [
        "# this functions returns both bond price at time=0 and a array containing all bond prices along the tree\n",
        "def calculate_couponbond_price(payment_array, p, u=0.0015, r0=0.02):\n",
        "    price = 0\n",
        "    T = len(payment_array)\n",
        "    # state_price_arrays = []\n",
        "    state_price_array = np.zeros((T+1,T+1))\n",
        "    for i in range(len(payment_array)):\n",
        "        result = calculate_zerobond_price(i+1,p,fv=payment_array[i], u=u, r0=r0)\n",
        "        price += result[0]\n",
        "        if i == 0:\n",
        "            state_price_array[T,0] += result[1][1,0]\n",
        "        else:\n",
        "            state_price_array[T-i:T+1,0:i+1] += result[1][1:i+2,0:i+1]\n",
        "        state_price_array[:,-1] = payment_array[-1]\n",
        "    return (price, state_price_array)\n",
        "calculate_couponbond_price([6,6,106],0.6)\n"
      ],
      "execution_count": 43,
      "outputs": [
        {
          "output_type": "execute_result",
          "data": {
            "text/plain": [
              "(111.62626755003194,\n",
              " array([[  0.        ,   0.        ,   0.        , 106.        ],\n",
              "        [  0.        ,   0.        , 104.22812193, 106.        ],\n",
              "        [  0.        , 108.10554797, 103.92156863, 106.        ],\n",
              "        [111.62626755, 107.4886603 , 103.61681329, 106.        ]]))"
            ]
          },
          "metadata": {
            "tags": []
          },
          "execution_count": 43
        }
      ]
    },
    {
      "cell_type": "markdown",
      "metadata": {
        "id": "Zb3c84I3IiLx"
      },
      "source": [
        "#### A ) Find period “0” prices of all of the eligible bonds & the reference bond"
      ]
    },
    {
      "cell_type": "code",
      "metadata": {
        "id": "pCrVO-Wj6sJG"
      },
      "source": [
        "ref = calculate_couponbond_price([6,6,6,6,106],0.6)[0]\n",
        "bondA = calculate_couponbond_price([0.5,0.5,0.5,100.5],0.6)[0]\n",
        "bondB = calculate_couponbond_price([1.25,1.25,1.25,101.25],0.6)[0]\n",
        "bondC = calculate_couponbond_price([2,2,2,102],0.6)[0]\n",
        "bondD = calculate_couponbond_price([0.75,0.75,0.75,0.75,100.75],0.6)[0]\n",
        "bondE = calculate_couponbond_price([2.25,2.25,2.25,2.25,102.25,],0.6)[0]"
      ],
      "execution_count": 44,
      "outputs": []
    },
    {
      "cell_type": "code",
      "metadata": {
        "colab": {
          "base_uri": "https://localhost:8080/"
        },
        "id": "OpjrL9rq-IMp",
        "outputId": "401e829b-6841-48c5-8198-c1ade3fd9751"
      },
      "source": [
        "ref"
      ],
      "execution_count": 45,
      "outputs": [
        {
          "output_type": "execute_result",
          "data": {
            "text/plain": [
              "119.15741171207964"
            ]
          },
          "metadata": {
            "tags": []
          },
          "execution_count": 45
        }
      ]
    },
    {
      "cell_type": "code",
      "metadata": {
        "colab": {
          "base_uri": "https://localhost:8080/"
        },
        "id": "Y7hQqejq-JeG",
        "outputId": "c2d8fca4-1a65-47ec-89af-b9363430e5e4"
      },
      "source": [
        "bondA"
      ],
      "execution_count": 46,
      "outputs": [
        {
          "output_type": "execute_result",
          "data": {
            "text/plain": [
              "94.45494888525512"
            ]
          },
          "metadata": {
            "tags": []
          },
          "execution_count": 46
        }
      ]
    },
    {
      "cell_type": "code",
      "metadata": {
        "colab": {
          "base_uri": "https://localhost:8080/"
        },
        "id": "gytwHs2F-KQ2",
        "outputId": "731e4b91-f267-4a60-c808-45089b93bd2b"
      },
      "source": [
        "bondB"
      ],
      "execution_count": 47,
      "outputs": [
        {
          "output_type": "execute_result",
          "data": {
            "text/plain": [
              "97.31282754461388"
            ]
          },
          "metadata": {
            "tags": []
          },
          "execution_count": 47
        }
      ]
    },
    {
      "cell_type": "code",
      "metadata": {
        "colab": {
          "base_uri": "https://localhost:8080/"
        },
        "id": "wYAqAzx7-LP9",
        "outputId": "21b2f163-6ffe-4777-ec71-6145baa374fe"
      },
      "source": [
        "bondC"
      ],
      "execution_count": 48,
      "outputs": [
        {
          "output_type": "execute_result",
          "data": {
            "text/plain": [
              "100.17070620397264"
            ]
          },
          "metadata": {
            "tags": []
          },
          "execution_count": 48
        }
      ]
    },
    {
      "cell_type": "code",
      "metadata": {
        "colab": {
          "base_uri": "https://localhost:8080/"
        },
        "id": "NJY_90Rk-MG-",
        "outputId": "60b7d7af-fbc4-4069-d3f9-1e550bbb6571"
      },
      "source": [
        "bondD"
      ],
      "execution_count": 49,
      "outputs": [
        {
          "output_type": "execute_result",
          "data": {
            "text/plain": [
              "94.3829638532159"
            ]
          },
          "metadata": {
            "tags": []
          },
          "execution_count": 49
        }
      ]
    },
    {
      "cell_type": "code",
      "metadata": {
        "colab": {
          "base_uri": "https://localhost:8080/"
        },
        "id": "MnN1BNPt-MwO",
        "outputId": "cdeb29ca-72a9-4562-d00f-2d9053175887"
      },
      "source": [
        "bondE"
      ],
      "execution_count": 50,
      "outputs": [
        {
          "output_type": "execute_result",
          "data": {
            "text/plain": [
              "101.46137752717698"
            ]
          },
          "metadata": {
            "tags": []
          },
          "execution_count": 50
        }
      ]
    },
    {
      "cell_type": "markdown",
      "metadata": {
        "id": "ufkgzwdgIEB8"
      },
      "source": [
        "#### B) Find period “0” risk-adjusted or risk-neutral expected prices of period “2” eligible bonds & the reference bond . 𝐸0[𝑃𝑖(2, 𝑠2)]"
      ]
    },
    {
      "cell_type": "code",
      "metadata": {
        "id": "40F-xi3iGKIq"
      },
      "source": [
        "# discount all cash flows by setting the current node at T=2\n",
        "EP2ref = calculate_couponbond_price([6,6,106],0.6,0.017)[0]\n",
        "EP2bondA = calculate_couponbond_price([0.5,100.5],0.6,0.017)[0]\n",
        "EP2bondB = calculate_couponbond_price([1.25,101.25],0.6,0.017)[0]\n",
        "EP2bondC = calculate_couponbond_price([2,102],0.6,0.017)[0]\n",
        "EP2bondD = calculate_couponbond_price([0.75,0.75,100.75],0.6,0.017)[0]\n",
        "EP2bondE = calculate_couponbond_price([2.25,2.25,102.25,],0.6,0.017)[0]"
      ],
      "execution_count": 51,
      "outputs": []
    },
    {
      "cell_type": "code",
      "metadata": {
        "colab": {
          "base_uri": "https://localhost:8080/"
        },
        "id": "tVZa1ZETHDvB",
        "outputId": "96763c8a-d475-434a-e6f2-26deb0efd46e"
      },
      "source": [
        "EP2ref"
      ],
      "execution_count": 52,
      "outputs": [
        {
          "output_type": "execute_result",
          "data": {
            "text/plain": [
              "112.67105705606906"
            ]
          },
          "metadata": {
            "tags": []
          },
          "execution_count": 52
        }
      ]
    },
    {
      "cell_type": "code",
      "metadata": {
        "colab": {
          "base_uri": "https://localhost:8080/"
        },
        "id": "VyuFemTBHFpN",
        "outputId": "cbb7a649-43c1-4a3f-dc67-f320989f3520"
      },
      "source": [
        "EP2bondA"
      ],
      "execution_count": 53,
      "outputs": [
        {
          "output_type": "execute_result",
          "data": {
            "text/plain": [
              "97.4365796855656"
            ]
          },
          "metadata": {
            "tags": []
          },
          "execution_count": 53
        }
      ]
    },
    {
      "cell_type": "code",
      "metadata": {
        "colab": {
          "base_uri": "https://localhost:8080/"
        },
        "id": "iurC3DEhHIIW",
        "outputId": "b71f88bd-ea59-4966-bf99-7ddf8fa91ed8"
      },
      "source": [
        "EP2bondB"
      ],
      "execution_count": 54,
      "outputs": [
        {
          "output_type": "execute_result",
          "data": {
            "text/plain": [
              "98.89535427789276"
            ]
          },
          "metadata": {
            "tags": []
          },
          "execution_count": 54
        }
      ]
    },
    {
      "cell_type": "code",
      "metadata": {
        "colab": {
          "base_uri": "https://localhost:8080/"
        },
        "id": "py5w5UdrHI5b",
        "outputId": "7b476285-0203-47ef-a795-4dad9e8fe7e3"
      },
      "source": [
        "EP2bondC"
      ],
      "execution_count": 55,
      "outputs": [
        {
          "output_type": "execute_result",
          "data": {
            "text/plain": [
              "100.35412887021994"
            ]
          },
          "metadata": {
            "tags": []
          },
          "execution_count": 55
        }
      ]
    },
    {
      "cell_type": "code",
      "metadata": {
        "colab": {
          "base_uri": "https://localhost:8080/"
        },
        "id": "iv90FjZqHJ6E",
        "outputId": "0dda3113-83f0-4c50-dbc4-621338526250"
      },
      "source": [
        "EP2bondD"
      ],
      "execution_count": 56,
      "outputs": [
        {
          "output_type": "execute_result",
          "data": {
            "text/plain": [
              "97.4572338091504"
            ]
          },
          "metadata": {
            "tags": []
          },
          "execution_count": 56
        }
      ]
    },
    {
      "cell_type": "code",
      "metadata": {
        "colab": {
          "base_uri": "https://localhost:8080/"
        },
        "id": "joQBmjvRHK9v",
        "outputId": "2b7e035a-7353-424b-dc33-96a598f8831d"
      },
      "source": [
        "EP2bondE"
      ],
      "execution_count": 57,
      "outputs": [
        {
          "output_type": "execute_result",
          "data": {
            "text/plain": [
              "101.80404045112716"
            ]
          },
          "metadata": {
            "tags": []
          },
          "execution_count": 57
        }
      ]
    },
    {
      "cell_type": "markdown",
      "metadata": {
        "id": "uwQHqNXzITh4"
      },
      "source": [
        "#### C ) Find period “0” the conversion factors for all the eligible bonds\n",
        "We need to equalize the final risk adjusted expected invoice price such that at TIME 0, both side would be indifferent to which asset to delivery."
      ]
    },
    {
      "cell_type": "code",
      "metadata": {
        "colab": {
          "base_uri": "https://localhost:8080/"
        },
        "id": "Tl9S_bsO-NPw",
        "outputId": "6374bca4-8d1a-4d08-da7f-984cd08582ae"
      },
      "source": [
        "ConvFactorA = ref/bondA\n",
        "ConvFactorA"
      ],
      "execution_count": 58,
      "outputs": [
        {
          "output_type": "execute_result",
          "data": {
            "text/plain": [
              "1.261526400875335"
            ]
          },
          "metadata": {
            "tags": []
          },
          "execution_count": 58
        }
      ]
    },
    {
      "cell_type": "code",
      "metadata": {
        "colab": {
          "base_uri": "https://localhost:8080/"
        },
        "id": "sHeARUwzU_th",
        "outputId": "386d8a8d-fa11-4f23-9d7a-12def8efe5ba"
      },
      "source": [
        "ConvFactorB = ref/bondB\n",
        "ConvFactorB"
      ],
      "execution_count": 59,
      "outputs": [
        {
          "output_type": "execute_result",
          "data": {
            "text/plain": [
              "1.224477951351798"
            ]
          },
          "metadata": {
            "tags": []
          },
          "execution_count": 59
        }
      ]
    },
    {
      "cell_type": "code",
      "metadata": {
        "colab": {
          "base_uri": "https://localhost:8080/"
        },
        "id": "vkRsbQQUVt65",
        "outputId": "4e3ec1ee-ecda-446d-a81d-b3216d3b3b9c"
      },
      "source": [
        "ConvFactorC = ref/bondC\n",
        "ConvFactorC"
      ],
      "execution_count": 60,
      "outputs": [
        {
          "output_type": "execute_result",
          "data": {
            "text/plain": [
              "1.1895434925800095"
            ]
          },
          "metadata": {
            "tags": []
          },
          "execution_count": 60
        }
      ]
    },
    {
      "cell_type": "code",
      "metadata": {
        "colab": {
          "base_uri": "https://localhost:8080/"
        },
        "id": "4eCePXNKVxe5",
        "outputId": "e7afe67a-d902-4bfe-a3dd-5f0a8f3e65c0"
      },
      "source": [
        "ConvFactorD = ref/bondD\n",
        "ConvFactorD"
      ],
      "execution_count": 61,
      "outputs": [
        {
          "output_type": "execute_result",
          "data": {
            "text/plain": [
              "1.2624885556401142"
            ]
          },
          "metadata": {
            "tags": []
          },
          "execution_count": 61
        }
      ]
    },
    {
      "cell_type": "code",
      "metadata": {
        "colab": {
          "base_uri": "https://localhost:8080/"
        },
        "id": "LD6ii-0DV0F5",
        "outputId": "393a8f28-5fe1-4905-8609-1e91914f132a"
      },
      "source": [
        "ConvFactorE = ref/bondE\n",
        "ConvFactorE"
      ],
      "execution_count": 62,
      "outputs": [
        {
          "output_type": "execute_result",
          "data": {
            "text/plain": [
              "1.1744115309311929"
            ]
          },
          "metadata": {
            "tags": []
          },
          "execution_count": 62
        }
      ]
    },
    {
      "cell_type": "markdown",
      "metadata": {
        "id": "qDFj_VUrL-fC"
      },
      "source": [
        "#### D ) Find the Future price of this Future contract in Periods 0, 1 and 2 in all state."
      ]
    },
    {
      "cell_type": "code",
      "metadata": {
        "colab": {
          "base_uri": "https://localhost:8080/"
        },
        "id": "7FNXOnGibk3-",
        "outputId": "f8ccf087-08cf-412c-a555-940b90355f2a"
      },
      "source": [
        "# price tree of ref bond\n",
        "ref_tree = calculate_couponbond_price([6,6,6,6,106],0.6)[1]\n",
        "ref_tree\n",
        "# the part of the tree that relates to futures price\n",
        "ref_tree[3:,:3]"
      ],
      "execution_count": 63,
      "outputs": [
        {
          "output_type": "execute_result",
          "data": {
            "text/plain": [
              "array([[  0.        ,   0.        , 112.56532492],\n",
              "       [  0.        , 116.04290817, 111.62626755],\n",
              "       [119.15741171, 114.78703761, 110.69799597]])"
            ]
          },
          "metadata": {
            "tags": []
          },
          "execution_count": 63
        }
      ]
    },
    {
      "cell_type": "code",
      "metadata": {
        "id": "RGqpzDCWS_i_"
      },
      "source": [
        "# starting node different for each branch of tree\n",
        "def calculate_futures_price(state, period, c):\n",
        "  if(period==4):\n",
        "    if(state==2):\n",
        "      CF = [100*c,100*(1+c)]\n",
        "      return 0.36*calculate_couponbond_price(CF, 0.6, u=0.0015, r0=0.017)[0] + 0.24*calculate_couponbond_price(CF, 0.6, u=0.0015, r0=0.02)[0] + 0.24*calculate_couponbond_price(CF, 0.6, u=0.0015, r0=0.02)[0] + 0.16*calculate_couponbond_price(CF, 0.6, u=0.0015, r0=0.023)[0]\n",
        "    if(state==1):\n",
        "      CF = [100*c,100*c,100*(1+c)]\n",
        "      return 0.6*calculate_couponbond_price(CF, 0.6, u=0.0015, r0=0.0185)[0] + 0.4*calculate_couponbond_price(CF, 0.6, u=0.0015, r0=0.0215)[0]\n",
        "    if(state==0):\n",
        "      CF = [100*c,100*c,100*c,100*(1+c)]\n",
        "      return calculate_couponbond_price(CF, 0.6, u=0.0015, r0=0.02)[0]\n",
        "  \n",
        "  if(period==5):\n",
        "    if(state==2):\n",
        "      CF = [100*c,100*c,100*(1+c)]\n",
        "      return 0.36*calculate_couponbond_price(CF, 0.6, u=0.0015, r0=0.017)[0] + 0.24*calculate_couponbond_price(CF, 0.6, u=0.0015, r0=0.02)[0] + 0.24*calculate_couponbond_price(CF, 0.6, u=0.0015, r0=0.02)[0] + 0.16*calculate_couponbond_price(CF, 0.6, u=0.0015, r0=0.023)[0]\n",
        "    if(state==1): \n",
        "      CF = [100*c,100*c,100*c,100*(1+c)]\n",
        "      return 0.6*calculate_couponbond_price(CF, 0.6, u=0.0015, r0=0.0185)[0] + 0.4*calculate_couponbond_price(CF, 0.6, u=0.0015, r0=0.0215)[0]\n",
        "    if(state==0):\n",
        "      CF = [100*c,100*c,100*c,100*c,100*(1+c)]\n",
        "      return calculate_couponbond_price(CF, 0.6, u=0.0015, r0=0.02)[0]"
      ],
      "execution_count": 64,
      "outputs": []
    },
    {
      "cell_type": "code",
      "metadata": {
        "colab": {
          "base_uri": "https://localhost:8080/"
        },
        "id": "gnimR5HtdIok",
        "outputId": "9e81e8de-0ed7-41c5-a769-a11e93b48398"
      },
      "source": [
        "# print out the risk-adjusted bond futures price for each period; e.g. H(0,4,A) means the futures price for 4-period-maturity bond A at time 0\n",
        "period_list = [4,4,4,5,5]\n",
        "coupon_list = [0.005, 0.0125, 0.02, 0.0075, 0.0225]\n",
        "bond_list = [\"A\", \"B\", \"C\", \"D\", \"E\"]\n",
        "for i in range(5):\n",
        "  for s in range(3):\n",
        "    print(\"H(%d,%d,%s) = %.4f\" % (s,period_list[i],bond_list[i],calculate_futures_price(s,period_list[i],coupon_list[i])))"
      ],
      "execution_count": 65,
      "outputs": [
        {
          "output_type": "stream",
          "text": [
            "H(0,4,A) = 94.4549\n",
            "H(1,4,A) = 95.8440\n",
            "H(2,4,A) = 97.2316\n",
            "H(0,4,B) = 97.3128\n",
            "H(1,4,B) = 98.0091\n",
            "H(2,4,B) = 98.6892\n",
            "H(0,4,C) = 100.1707\n",
            "H(1,4,C) = 100.1741\n",
            "H(2,4,C) = 100.1469\n",
            "H(0,5,D) = 94.3830\n",
            "H(1,5,D) = 95.5206\n",
            "H(2,5,D) = 96.6516\n",
            "H(0,5,E) = 101.4614\n",
            "H(1,5,E) = 101.2406\n",
            "H(2,5,E) = 100.9842\n"
          ],
          "name": "stdout"
        }
      ]
    },
    {
      "cell_type": "markdown",
      "metadata": {
        "id": "ZqM4gH1rg5P4"
      },
      "source": [
        "#### E ) Identify the cheapest to delivery bond in periods 1 and 2 in all states"
      ]
    },
    {
      "cell_type": "code",
      "metadata": {
        "colab": {
          "base_uri": "https://localhost:8080/"
        },
        "id": "CSEDUyxLgdcI",
        "outputId": "46aa3eaf-2a97-436e-d6f7-bab0f2eb672c"
      },
      "source": [
        "cheapest = {}\n",
        "ConvFactor = [ConvFactorA, ConvFactorB, ConvFactorC, \n",
        "              ConvFactorD, ConvFactorE]\n",
        "for i in range(5):\n",
        "  for s in range(1,3):\n",
        "    cheapest[(bond_list[i],s)] = calculate_futures_price(s,period_list[i],coupon_list[i])*ConvFactor[i]\n",
        "    print(\"H(%d,%d,%s) = %.4f\" % (s,period_list[i],bond_list[i],calculate_futures_price(s,period_list[i],coupon_list[i])*ConvFactor[i]))\n",
        "\n",
        "for k,v in cheapest.items():\n",
        "  if (v == min(cheapest.values())):\n",
        "    print(k,v)"
      ],
      "execution_count": 66,
      "outputs": [
        {
          "output_type": "stream",
          "text": [
            "H(1,4,A) = 120.9098\n",
            "H(2,4,A) = 122.6602\n",
            "H(1,4,B) = 120.0100\n",
            "H(2,4,B) = 120.8428\n",
            "H(1,4,C) = 119.1615\n",
            "H(2,4,C) = 119.1291\n",
            "H(1,5,D) = 120.5937\n",
            "H(2,5,D) = 122.0215\n",
            "H(1,5,E) = 118.8981\n",
            "H(2,5,E) = 118.5970\n",
            "('E', 2) 118.59702738010283\n"
          ],
          "name": "stdout"
        }
      ]
    },
    {
      "cell_type": "markdown",
      "metadata": {
        "id": "dbUwNQmrkd2Y"
      },
      "source": [
        "Cheapest to delivery bond is Bond E at T=2"
      ]
    },
    {
      "cell_type": "markdown",
      "metadata": {
        "id": "IvKqs0qhnh0E"
      },
      "source": [
        "#### F ) You sold this Future contract, find a replicating portfolio using bonds “a” through “e” to hedge this future contract in period 0.\n",
        "Using a ZCB and underlying bond E to form a replicating portfolio:\n",
        "\n",
        "M(0)\\*B(1,u) + N1(0)\\*P(1,5,u) = P(1,5,u) - H(0,5)\\\n",
        "M(0)\\*B(1,d) + N1(0)\\*P(1,5,d) = P(1,5,d) - H(0,5)\n",
        "\n",
        "M(0)\\*1.0185 + N1(0)\\*101.7013166 = 101.7013166 - 101.4614\\\n",
        "M(0)\\*1.0215 + N1(0)\\*100.5495378 = 100.5495378 - 101.4614\n",
        "\n",
        "    Solve for M(0) = -79.05684489, N1(0) = 0.794083261\n",
        "\n",
        "\n"
      ]
    },
    {
      "cell_type": "code",
      "metadata": {
        "id": "lkjGh5WxdNT1"
      },
      "source": [
        ""
      ],
      "execution_count": 66,
      "outputs": []
    }
  ]
}